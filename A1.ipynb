{
 "cells": [
  {
   "cell_type": "code",
   "execution_count": null,
   "id": "df6f099a-f8a9-4b02-9b01-01f89cc0bb12",
   "metadata": {},
   "outputs": [],
   "source": [
    "#1\n",
    "#They must start with a letter (a-z, A-Z) or an underscore (_).\n",
    "#After the first character, variable names can contain letters, numbers (0-9), or underscores (_).\n",
    "#Variable names are case-sensitive"
   ]
  },
  {
   "cell_type": "code",
   "execution_count": null,
   "id": "e5970f9e-b66c-4253-bfe6-9395fab6ad10",
   "metadata": {},
   "outputs": [],
   "source": [
    "#2 Using a restricted keyword as a variable name in Python will result in a syntax error."
   ]
  },
  {
   "cell_type": "code",
   "execution_count": null,
   "id": "fa56435d-3b45-4e80-8c14-c76d96c29741",
   "metadata": {},
   "outputs": [],
   "source": [
    "#3"
   ]
  },
  {
   "cell_type": "code",
   "execution_count": null,
   "id": "dab223a3-7097-4013-92c5-5e082d161d33",
   "metadata": {},
   "outputs": [],
   "source": [
    "#4\n",
    "#yes it is possible \n",
    "# Using \"_\" as a variable\n",
    "_ = 100  \n",
    "print(_)  # Output: 100"
   ]
  },
  {
   "cell_type": "code",
   "execution_count": 1,
   "id": "743cd979-1691-47d0-a871-577ca0560779",
   "metadata": {},
   "outputs": [
    {
     "name": "stdout",
     "output_type": "stream",
     "text": [
      "x is an integer: 10\n",
      "x is now a string: Hello, world!\n",
      "x is now a list: [1, 2, 3, 4, 5]\n",
      "x is now a dictionary: {'name': 'John', 'age': 30}\n"
     ]
    }
   ],
   "source": [
    "#5\n",
    "#Dynamic nature of variables in Python\n",
    "\n",
    "# Assigning an integer value to the variable 'x'\n",
    "x = 10\n",
    "print(\"x is an integer:\", x)\n",
    "\n",
    "# Reassigning 'x' to a string value\n",
    "x = \"Hello, world!\"\n",
    "print(\"x is now a string:\", x)\n",
    "\n",
    "# Reassigning 'x' to a list\n",
    "x = [1, 2, 3, 4, 5]\n",
    "print(\"x is now a list:\", x)\n",
    "\n",
    "# Reassigning 'x' to a dictionary\n",
    "x = {'name': 'John', 'age': 30}\n",
    "print(\"x is now a dictionary:\", x)"
   ]
  },
  {
   "cell_type": "code",
   "execution_count": null,
   "id": "bfbbe275-206b-4f84-8464-13b04a939d31",
   "metadata": {},
   "outputs": [],
   "source": []
  }
 ],
 "metadata": {
  "kernelspec": {
   "display_name": "Python 3 (ipykernel)",
   "language": "python",
   "name": "python3"
  },
  "language_info": {
   "codemirror_mode": {
    "name": "ipython",
    "version": 3
   },
   "file_extension": ".py",
   "mimetype": "text/x-python",
   "name": "python",
   "nbconvert_exporter": "python",
   "pygments_lexer": "ipython3",
   "version": "3.10.8"
  }
 },
 "nbformat": 4,
 "nbformat_minor": 5
}
